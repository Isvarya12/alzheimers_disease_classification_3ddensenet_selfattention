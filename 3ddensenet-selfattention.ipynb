{
 "cells": [
  {
   "cell_type": "markdown",
   "metadata": {
    "papermill": {
     "duration": 0.028871,
     "end_time": "2023-10-25T15:53:06.328956",
     "exception": false,
     "start_time": "2023-10-25T15:53:06.300085",
     "status": "completed"
    },
    "tags": []
   },
   "source": [
    "### IMPORT LIBRARIES"
   ]
  },
  {
   "cell_type": "code",
   "execution_count": 1,
   "metadata": {
    "_cell_guid": "79c7e3d0-c299-4dcb-8224-4455121ee9b0",
    "_uuid": "d629ff2d2480ee46fbb7e2d37f6b5fab8052498a",
    "execution": {
     "iopub.execute_input": "2023-10-25T15:53:06.382324Z",
     "iopub.status.busy": "2023-10-25T15:53:06.381152Z",
     "iopub.status.idle": "2023-10-25T15:53:14.204395Z",
     "shell.execute_reply": "2023-10-25T15:53:14.205302Z",
     "shell.execute_reply.started": "2023-10-25T14:07:24.911457Z"
    },
    "papermill": {
     "duration": 7.852124,
     "end_time": "2023-10-25T15:53:14.205536",
     "exception": false,
     "start_time": "2023-10-25T15:53:06.353412",
     "status": "completed"
    },
    "tags": []
   },
   "outputs": [],
   "source": [
    "import numpy as np\n",
    "import pandas as pd\n",
    "import matplotlib.pyplot as plt\n",
    "import seaborn as sn\n",
    "import skimage.io\n",
    "import os \n",
    "import tqdm\n",
    "import glob\n",
    "import tensorflow \n",
    "\n",
    "from tqdm import tqdm\n",
    "from sklearn.utils import shuffle\n",
    "from sklearn import metrics\n",
    "from sklearn.metrics import confusion_matrix, classification_report\n",
    "from sklearn.model_selection import train_test_split\n",
    "\n",
    "from skimage.io import imread, imshow\n",
    "from skimage.transform import resize\n",
    "from skimage.color import grey2rgb\n",
    "\n",
    "import tensorflow as tf\n",
    "from tensorflow.keras.preprocessing.image import ImageDataGenerator\n",
    "from tensorflow.keras.preprocessing import image_dataset_from_directory\n",
    "from tensorflow.keras.models import Sequential\n",
    "from tensorflow.keras.layers import InputLayer, BatchNormalization, Dropout, Flatten, Dense, Activation, MaxPool2D, Conv2D\n",
    "from tensorflow.keras.callbacks import EarlyStopping, ModelCheckpoint\n",
    "from tensorflow.keras.applications.vgg16 import VGG16 # VGG16\n",
    "from tensorflow.keras.applications.vgg19 import VGG19 # VGG19\n",
    "from tensorflow.keras.applications.resnet50 import ResNet50 # ResNet50\n",
    "from tensorflow.keras.applications.xception import Xception # Xception\n",
    "from tensorflow.keras.applications.mobilenet import MobileNet # MobileNet\n",
    "from tensorflow.keras.applications.nasnet import NASNetMobile # NASNetMobile\n",
    "from tensorflow.keras.applications.densenet import DenseNet169 # DenseNet169\n",
    "from tensorflow.keras.applications.densenet import DenseNet121 # DenseNet121\n",
    "from tensorflow.keras.applications.mobilenet_v2 import MobileNetV2 # MobileNetV2\n",
    "from tensorflow.keras.applications.inception_v3 import InceptionV3\n",
    "from tensorflow.keras.utils import to_categorical\n",
    "from keras import optimizers\n",
    "\n",
    "from keras.callbacks import Callback,ModelCheckpoint\n",
    "from keras.models import Sequential,load_model\n",
    "from keras.layers import Dense, Dropout\n",
    "from keras.wrappers.scikit_learn import KerasClassifier\n",
    "import keras.backend as K\n",
    "\n",
    "#import tensorflow_addons as tfa\n",
    "#from tensorflow.keras.metrics import Metric\n",
    "#from tensorflow_addons.utils.types import AcceptableDTypes, FloatTensorLike\n",
    "from typeguard import typechecked\n",
    "from typing import Optional"
   ]
  },
  {
   "cell_type": "code",
   "execution_count": 2,
   "metadata": {
    "execution": {
     "iopub.execute_input": "2023-10-25T15:53:14.257543Z",
     "iopub.status.busy": "2023-10-25T15:53:14.256687Z",
     "iopub.status.idle": "2023-10-25T15:53:14.262264Z",
     "shell.execute_reply": "2023-10-25T15:53:14.261380Z",
     "shell.execute_reply.started": "2023-10-25T14:07:32.575695Z"
    },
    "papermill": {
     "duration": 0.033127,
     "end_time": "2023-10-25T15:53:14.262416",
     "exception": false,
     "start_time": "2023-10-25T15:53:14.229289",
     "status": "completed"
    },
    "tags": []
   },
   "outputs": [],
   "source": [
    "AUTOTUNE = tf.data.experimental.AUTOTUNE"
   ]
  },
  {
   "cell_type": "code",
   "execution_count": 3,
   "metadata": {
    "execution": {
     "iopub.execute_input": "2023-10-25T15:53:14.320918Z",
     "iopub.status.busy": "2023-10-25T15:53:14.320084Z",
     "iopub.status.idle": "2023-10-25T15:53:14.324474Z",
     "shell.execute_reply": "2023-10-25T15:53:14.323712Z",
     "shell.execute_reply.started": "2023-10-25T14:07:32.583091Z"
    },
    "papermill": {
     "duration": 0.03796,
     "end_time": "2023-10-25T15:53:14.324620",
     "exception": false,
     "start_time": "2023-10-25T15:53:14.286660",
     "status": "completed"
    },
    "tags": []
   },
   "outputs": [],
   "source": [
    "train_datagen = ImageDataGenerator(rescale = 1./255,\n",
    "                                   validation_split = 0.2,\n",
    "                                  \n",
    "        rotation_range=5,\n",
    "        width_shift_range=0.2,\n",
    "        height_shift_range=0.2,\n",
    "        shear_range=0.2,\n",
    "        #zoom_range=0.2,\n",
    "        horizontal_flip=True,\n",
    "        vertical_flip=True,\n",
    "        fill_mode='nearest')\n",
    "\n",
    "valid_datagen = ImageDataGenerator(rescale = 1./255,\n",
    "                                  validation_split = 0.2)\n",
    "\n",
    "test_datagen  = ImageDataGenerator(rescale = 1./255\n",
    "                                  )"
   ]
  },
  {
   "cell_type": "code",
   "execution_count": 4,
   "metadata": {
    "execution": {
     "iopub.execute_input": "2023-10-25T15:53:14.379914Z",
     "iopub.status.busy": "2023-10-25T15:53:14.375788Z",
     "iopub.status.idle": "2023-10-25T15:53:17.526390Z",
     "shell.execute_reply": "2023-10-25T15:53:17.526989Z",
     "shell.execute_reply.started": "2023-10-25T14:07:32.597749Z"
    },
    "papermill": {
     "duration": 3.177958,
     "end_time": "2023-10-25T15:53:17.527205",
     "exception": false,
     "start_time": "2023-10-25T15:53:14.349247",
     "status": "completed"
    },
    "tags": []
   },
   "outputs": [
    {
     "name": "stdout",
     "output_type": "stream",
     "text": [
      "Found 4098 images belonging to 4 classes.\n"
     ]
    }
   ],
   "source": [
    "#train_dataset = tf.keras.preprocessing.image_dataset_from_directory('../input/alzheimers-dataset-4-class-of-images/Alzheimer_s Dataset/train',\n",
    "#                                                                        validation_split=0.2,\n",
    "#                                                                        subset=\"training\",\n",
    "#                                                                        shuffle=False,\n",
    "#                                                                        image_size=(224,224),\n",
    "#                                                                        batch_size=32,\n",
    "#                                                                        )\n",
    "\n",
    "train_dataset  = train_datagen.flow_from_directory(directory = '../input/alzheimers-dataset-4-class-of-images/Alzheimer_s Dataset/train',\n",
    "                                                   target_size = (224,224),\n",
    "                                                   class_mode = 'categorical',\n",
    "                                                   subset = 'training',\n",
    "                                                   batch_size = 32)"
   ]
  },
  {
   "cell_type": "code",
   "execution_count": 5,
   "metadata": {
    "execution": {
     "iopub.execute_input": "2023-10-25T15:53:17.582843Z",
     "iopub.status.busy": "2023-10-25T15:53:17.582100Z",
     "iopub.status.idle": "2023-10-25T15:53:17.794803Z",
     "shell.execute_reply": "2023-10-25T15:53:17.794096Z",
     "shell.execute_reply.started": "2023-10-25T14:07:39.990035Z"
    },
    "papermill": {
     "duration": 0.243129,
     "end_time": "2023-10-25T15:53:17.794952",
     "exception": false,
     "start_time": "2023-10-25T15:53:17.551823",
     "status": "completed"
    },
    "tags": []
   },
   "outputs": [
    {
     "name": "stdout",
     "output_type": "stream",
     "text": [
      "Found 1023 images belonging to 4 classes.\n"
     ]
    }
   ],
   "source": [
    "#valid_dataset = tf.keras.preprocessing.image_dataset_from_directory('../input/alzheimers-dataset-4-class-of-images/Alzheimer_s Dataset/train',\n",
    "#                                                                        validation_split=0.2,\n",
    "#                                                                        subset=\"validation\",\n",
    "#                                                                        shuffle=False,\n",
    "#                                                                        image_size=(224,224),\n",
    "#                                                                        batch_size=32,\n",
    "#                                                                        )\n",
    "valid_dataset = valid_datagen.flow_from_directory(directory = '../input/alzheimers-dataset-4-class-of-images/Alzheimer_s Dataset/train',\n",
    "                                                  target_size = (224,224),\n",
    "                                                  class_mode = 'categorical',\n",
    "                                                  subset = 'validation',\n",
    "                                                  batch_size = 32)"
   ]
  },
  {
   "cell_type": "code",
   "execution_count": 6,
   "metadata": {
    "execution": {
     "iopub.execute_input": "2023-10-25T15:53:17.851580Z",
     "iopub.status.busy": "2023-10-25T15:53:17.850824Z",
     "iopub.status.idle": "2023-10-25T15:53:18.065650Z",
     "shell.execute_reply": "2023-10-25T15:53:18.066421Z",
     "shell.execute_reply.started": "2023-10-25T14:07:41.093833Z"
    },
    "papermill": {
     "duration": 0.246874,
     "end_time": "2023-10-25T15:53:18.066598",
     "exception": false,
     "start_time": "2023-10-25T15:53:17.819724",
     "status": "completed"
    },
    "tags": []
   },
   "outputs": [
    {
     "name": "stdout",
     "output_type": "stream",
     "text": [
      "Found 1279 images belonging to 4 classes.\n"
     ]
    }
   ],
   "source": [
    "#test_dataset = tf.keras.preprocessing.image_dataset_from_directory(\"../input/alzheimers-dataset-4-class-of-images/Alzheimer_s Dataset/test\",\n",
    "##                                                            shuffle=False,\n",
    "#                                                            image_size=(224,224),\n",
    "#                                                            batch_size=32,\n",
    "#)\n",
    "\n",
    "test_dataset = test_datagen.flow_from_directory(directory = '../input/alzheimers-dataset-4-class-of-images/Alzheimer_s Dataset/test',\n",
    "                                                  target_size = (224,224),\n",
    "                                                  class_mode = 'categorical',\n",
    "                                                  batch_size = 32)"
   ]
  },
  {
   "cell_type": "markdown",
   "metadata": {
    "papermill": {
     "duration": 0.024225,
     "end_time": "2023-10-25T15:53:18.115604",
     "exception": false,
     "start_time": "2023-10-25T15:53:18.091379",
     "status": "completed"
    },
    "tags": []
   },
   "source": [
    "## feature preprocessing and label encoding."
   ]
  },
  {
   "cell_type": "markdown",
   "metadata": {
    "papermill": {
     "duration": 0.024249,
     "end_time": "2023-10-25T15:53:18.164764",
     "exception": false,
     "start_time": "2023-10-25T15:53:18.140515",
     "status": "completed"
    },
    "tags": []
   },
   "source": [
    "### MODEL BUILDING"
   ]
  },
  {
   "cell_type": "code",
   "execution_count": 7,
   "metadata": {
    "execution": {
     "iopub.execute_input": "2023-10-25T15:53:18.218461Z",
     "iopub.status.busy": "2023-10-25T15:53:18.217659Z",
     "iopub.status.idle": "2023-10-25T15:53:18.225328Z",
     "shell.execute_reply": "2023-10-25T15:53:18.225928Z",
     "shell.execute_reply.started": "2023-10-25T14:07:41.414613Z"
    },
    "papermill": {
     "duration": 0.036489,
     "end_time": "2023-10-25T15:53:18.226087",
     "exception": false,
     "start_time": "2023-10-25T15:53:18.189598",
     "status": "completed"
    },
    "tags": []
   },
   "outputs": [
    {
     "data": {
      "text/plain": [
       "False"
      ]
     },
     "execution_count": 7,
     "metadata": {},
     "output_type": "execute_result"
    }
   ],
   "source": [
    "os.path.exists('D:\\sem 7\\weights\\densenet121_weights_tf_dim_ordering_tf_kernels_notop.h5')"
   ]
  },
  {
   "cell_type": "code",
   "execution_count": 8,
   "metadata": {
    "execution": {
     "iopub.execute_input": "2023-10-25T15:53:18.280510Z",
     "iopub.status.busy": "2023-10-25T15:53:18.279692Z",
     "iopub.status.idle": "2023-10-25T15:53:23.978780Z",
     "shell.execute_reply": "2023-10-25T15:53:23.978116Z",
     "shell.execute_reply.started": "2023-10-25T14:07:41.425246Z"
    },
    "papermill": {
     "duration": 5.727902,
     "end_time": "2023-10-25T15:53:23.978962",
     "exception": false,
     "start_time": "2023-10-25T15:53:18.251060",
     "status": "completed"
    },
    "tags": []
   },
   "outputs": [],
   "source": [
    "from tensorflow.keras.applications import DenseNet121\n",
    "\n",
    "# Define the local path to the downloaded weights file\n",
    "weights_path ='/kaggle/input/weights/densenet121_weights_tf_dim_ordering_tf_kernels_notop.h5'\n",
    "\n",
    "# Load the model with the local weights file\n",
    "base_model = DenseNet121(input_shape=(224, 224, 3), include_top=False, weights=weights_path)\n"
   ]
  },
  {
   "cell_type": "code",
   "execution_count": 9,
   "metadata": {
    "execution": {
     "iopub.execute_input": "2023-10-25T15:53:24.041530Z",
     "iopub.status.busy": "2023-10-25T15:53:24.040537Z",
     "iopub.status.idle": "2023-10-25T15:53:24.045030Z",
     "shell.execute_reply": "2023-10-25T15:53:24.044255Z",
     "shell.execute_reply.started": "2023-10-25T14:07:47.317939Z"
    },
    "papermill": {
     "duration": 0.036672,
     "end_time": "2023-10-25T15:53:24.045171",
     "exception": false,
     "start_time": "2023-10-25T15:53:24.008499",
     "status": "completed"
    },
    "tags": []
   },
   "outputs": [],
   "source": [
    "##base_model = DenseNet121(input_shape=(224,224,3), \n",
    "  ##                 include_top=False,\n",
    "    ##               weights=\"imagenet\")"
   ]
  },
  {
   "cell_type": "code",
   "execution_count": 10,
   "metadata": {
    "execution": {
     "iopub.execute_input": "2023-10-25T15:53:24.114808Z",
     "iopub.status.busy": "2023-10-25T15:53:24.109490Z",
     "iopub.status.idle": "2023-10-25T15:53:24.126712Z",
     "shell.execute_reply": "2023-10-25T15:53:24.126056Z",
     "shell.execute_reply.started": "2023-10-25T14:07:47.325467Z"
    },
    "papermill": {
     "duration": 0.056585,
     "end_time": "2023-10-25T15:53:24.126841",
     "exception": false,
     "start_time": "2023-10-25T15:53:24.070256",
     "status": "completed"
    },
    "tags": []
   },
   "outputs": [],
   "source": [
    "# Freezing Layers\n",
    "\n",
    "for layer in base_model.layers:\n",
    "    layer.trainable=False"
   ]
  },
  {
   "cell_type": "code",
   "execution_count": 11,
   "metadata": {
    "execution": {
     "iopub.execute_input": "2023-10-25T15:53:24.199243Z",
     "iopub.status.busy": "2023-10-25T15:53:24.198156Z",
     "iopub.status.idle": "2023-10-25T15:53:24.202268Z",
     "shell.execute_reply": "2023-10-25T15:53:24.201472Z",
     "shell.execute_reply.started": "2023-10-25T14:07:47.362079Z"
    },
    "papermill": {
     "duration": 0.050251,
     "end_time": "2023-10-25T15:53:24.202405",
     "exception": false,
     "start_time": "2023-10-25T15:53:24.152154",
     "status": "completed"
    },
    "tags": []
   },
   "outputs": [],
   "source": [
    "class SelfAttention(tf.keras.layers.Layer):\n",
    "    def __init__(self, channels):\n",
    "        super(SelfAttention, self).__init__()\n",
    "        self.channels = channels\n",
    "\n",
    "    def build(self, input_shape):\n",
    "        self.theta = Conv2D(self.channels // 8, (1, 1), strides=(1, 1), padding='same')\n",
    "        self.phi = Conv2D(self.channels // 8, (1, 1), strides=(1, 1), padding='same')\n",
    "        self.g = Conv2D(self.channels // 2, (1, 1), strides=(1, 1), padding='same')\n",
    "        self.o = Conv2D(self.channels, (1, 1), strides=(1, 1), padding='same')\n",
    "\n",
    "    def call(self, inputs):\n",
    "        theta = self.theta(inputs)\n",
    "        phi = self.phi(inputs)\n",
    "        g = self.g(inputs)\n",
    "\n",
    "        theta = tf.reshape(theta, [-1, theta.shape[1] * theta.shape[2], theta.shape[3]])\n",
    "        phi = tf.reshape(phi, [-1, phi.shape[1] * phi.shape[2], phi.shape[3]])\n",
    "        g = tf.reshape(g, [-1, g.shape[1] * g.shape[2], g.shape[3]])\n",
    "\n",
    "        attn = tf.nn.softmax(tf.matmul(theta, phi, transpose_b=True))\n",
    "        attn_g = tf.matmul(attn, g)\n",
    "\n",
    "        attn_g = tf.reshape(attn_g, [-1, inputs.shape[1], inputs.shape[2], g.shape[-1]])\n",
    "        o = self.o(attn_g)\n",
    "\n",
    "        x = inputs + o\n",
    "        return x\n"
   ]
  },
  {
   "cell_type": "code",
   "execution_count": 12,
   "metadata": {
    "execution": {
     "iopub.execute_input": "2023-10-25T15:53:24.272236Z",
     "iopub.status.busy": "2023-10-25T15:53:24.261386Z",
     "iopub.status.idle": "2023-10-25T15:53:25.482649Z",
     "shell.execute_reply": "2023-10-25T15:53:25.481834Z",
     "shell.execute_reply.started": "2023-10-25T15:12:47.987861Z"
    },
    "papermill": {
     "duration": 1.255419,
     "end_time": "2023-10-25T15:53:25.482783",
     "exception": false,
     "start_time": "2023-10-25T15:53:24.227364",
     "status": "completed"
    },
    "tags": []
   },
   "outputs": [],
   "source": [
    "from tensorflow.keras.layers import Conv2D, Reshape\n",
    "from tensorflow.keras.models import Sequential\n",
    "from tensorflow.keras.layers import Dense, Flatten,MaxPooling2D, BatchNormalization, Dropout, Activation\n",
    "import tensorflow as tf\n",
    "\n",
    "model = Sequential([\n",
    "    base_model,\n",
    "    Conv2D(32, (3, 3), activation='relu'),\n",
    "    Conv2D(64, (3, 3), activation='relu'),\n",
    "    SelfAttention(64),  # Add SelfAttention layer\n",
    "    Flatten(),\n",
    "    Dense(128, activation='relu'),\n",
    "    Dropout(0.5),\n",
    "    Dense(128, activation='relu'),\n",
    "    Dropout(0.5),\n",
    "     Dense(128, activation='relu'),\n",
    "    Dropout(0.5),\n",
    "    Dense(128, activation='relu'),\n",
    "    Dropout(0.5),\n",
    "     Dense(128, activation='relu'),\n",
    "    Dropout(0.5),\n",
    "    Dense(128, activation='relu'),\n",
    "    Dropout(0.5),\n",
    "    Dense(4, activation='softmax')  # Change to the appropriate number of classes\n",
    "])"
   ]
  },
  {
   "cell_type": "code",
   "execution_count": 13,
   "metadata": {
    "execution": {
     "iopub.execute_input": "2023-10-25T15:53:25.562143Z",
     "iopub.status.busy": "2023-10-25T15:53:25.559568Z",
     "iopub.status.idle": "2023-10-25T15:53:25.596281Z",
     "shell.execute_reply": "2023-10-25T15:53:25.595449Z",
     "shell.execute_reply.started": "2023-10-25T15:12:53.950889Z"
    },
    "papermill": {
     "duration": 0.088602,
     "end_time": "2023-10-25T15:53:25.596434",
     "exception": false,
     "start_time": "2023-10-25T15:53:25.507832",
     "status": "completed"
    },
    "tags": []
   },
   "outputs": [
    {
     "name": "stdout",
     "output_type": "stream",
     "text": [
      "Model: \"sequential\"\n",
      "_________________________________________________________________\n",
      "Layer (type)                 Output Shape              Param #   \n",
      "=================================================================\n",
      "densenet121 (Functional)     (None, 7, 7, 1024)        7037504   \n",
      "_________________________________________________________________\n",
      "conv2d (Conv2D)              (None, 5, 5, 32)          294944    \n",
      "_________________________________________________________________\n",
      "conv2d_1 (Conv2D)            (None, 3, 3, 64)          18496     \n",
      "_________________________________________________________________\n",
      "self_attention (SelfAttentio (None, 3, 3, 64)          5232      \n",
      "_________________________________________________________________\n",
      "flatten (Flatten)            (None, 576)               0         \n",
      "_________________________________________________________________\n",
      "dense (Dense)                (None, 128)               73856     \n",
      "_________________________________________________________________\n",
      "dropout (Dropout)            (None, 128)               0         \n",
      "_________________________________________________________________\n",
      "dense_1 (Dense)              (None, 128)               16512     \n",
      "_________________________________________________________________\n",
      "dropout_1 (Dropout)          (None, 128)               0         \n",
      "_________________________________________________________________\n",
      "dense_2 (Dense)              (None, 128)               16512     \n",
      "_________________________________________________________________\n",
      "dropout_2 (Dropout)          (None, 128)               0         \n",
      "_________________________________________________________________\n",
      "dense_3 (Dense)              (None, 128)               16512     \n",
      "_________________________________________________________________\n",
      "dropout_3 (Dropout)          (None, 128)               0         \n",
      "_________________________________________________________________\n",
      "dense_4 (Dense)              (None, 128)               16512     \n",
      "_________________________________________________________________\n",
      "dropout_4 (Dropout)          (None, 128)               0         \n",
      "_________________________________________________________________\n",
      "dense_5 (Dense)              (None, 128)               16512     \n",
      "_________________________________________________________________\n",
      "dropout_5 (Dropout)          (None, 128)               0         \n",
      "_________________________________________________________________\n",
      "dense_6 (Dense)              (None, 4)                 516       \n",
      "=================================================================\n",
      "Total params: 7,513,108\n",
      "Trainable params: 475,604\n",
      "Non-trainable params: 7,037,504\n",
      "_________________________________________________________________\n"
     ]
    }
   ],
   "source": [
    "# Model Summary\n",
    "\n",
    "model.summary()"
   ]
  },
  {
   "cell_type": "code",
   "execution_count": 14,
   "metadata": {
    "execution": {
     "iopub.execute_input": "2023-10-25T15:53:25.658876Z",
     "iopub.status.busy": "2023-10-25T15:53:25.657869Z",
     "iopub.status.idle": "2023-10-25T15:53:25.663252Z",
     "shell.execute_reply": "2023-10-25T15:53:25.662535Z",
     "shell.execute_reply.started": "2023-10-25T15:13:00.115897Z"
    },
    "papermill": {
     "duration": 0.040799,
     "end_time": "2023-10-25T15:53:25.663408",
     "exception": false,
     "start_time": "2023-10-25T15:53:25.622609",
     "status": "completed"
    },
    "tags": []
   },
   "outputs": [],
   "source": [
    "def f1_score(y_true, y_pred): #taken from old keras source code\n",
    "    true_positives = K.sum(K.round(K.clip(y_true * y_pred, 0, 1)))\n",
    "    possible_positives = K.sum(K.round(K.clip(y_true, 0, 1)))\n",
    "    predicted_positives = K.sum(K.round(K.clip(y_pred, 0, 1)))\n",
    "    precision = true_positives / (predicted_positives + K.epsilon())\n",
    "    recall = true_positives / (possible_positives + K.epsilon())\n",
    "    f1_val = 2*(precision*recall)/(precision+recall+K.epsilon())\n",
    "    return f1_val"
   ]
  },
  {
   "cell_type": "code",
   "execution_count": 15,
   "metadata": {
    "execution": {
     "iopub.execute_input": "2023-10-25T15:53:25.732278Z",
     "iopub.status.busy": "2023-10-25T15:53:25.731110Z",
     "iopub.status.idle": "2023-10-25T15:53:25.754351Z",
     "shell.execute_reply": "2023-10-25T15:53:25.753495Z",
     "shell.execute_reply.started": "2023-10-25T15:13:04.797363Z"
    },
    "papermill": {
     "duration": 0.065103,
     "end_time": "2023-10-25T15:53:25.754523",
     "exception": false,
     "start_time": "2023-10-25T15:53:25.689420",
     "status": "completed"
    },
    "tags": []
   },
   "outputs": [],
   "source": [
    "METRICS = [\n",
    "      tf.keras.metrics.BinaryAccuracy(name='accuracy'),\n",
    "      tf.keras.metrics.Precision(name='precision'),\n",
    "      tf.keras.metrics.Recall(name='recall'),  \n",
    "      tf.keras.metrics.AUC(name='auc'),\n",
    "        f1_score,\n",
    "]"
   ]
  },
  {
   "cell_type": "code",
   "execution_count": 16,
   "metadata": {
    "execution": {
     "iopub.execute_input": "2023-10-25T15:53:25.814994Z",
     "iopub.status.busy": "2023-10-25T15:53:25.813809Z",
     "iopub.status.idle": "2023-10-25T15:53:25.817724Z",
     "shell.execute_reply": "2023-10-25T15:53:25.816944Z",
     "shell.execute_reply.started": "2023-10-25T15:13:07.267863Z"
    },
    "papermill": {
     "duration": 0.037708,
     "end_time": "2023-10-25T15:53:25.817870",
     "exception": false,
     "start_time": "2023-10-25T15:53:25.780162",
     "status": "completed"
    },
    "tags": []
   },
   "outputs": [],
   "source": [
    "def exponential_decay(lr0, s):\n",
    "    def exponential_decay_fn(epoch):\n",
    "        return lr0 * 0.1 **(epoch / s)\n",
    "    return exponential_decay_fn\n",
    "\n",
    "exponential_decay_fn = exponential_decay(0.01, 5) # when i run it for 50 epochs\n",
    "\n",
    "lr_scheduler = tf.keras.callbacks.LearningRateScheduler(exponential_decay_fn)"
   ]
  },
  {
   "cell_type": "code",
   "execution_count": 17,
   "metadata": {
    "execution": {
     "iopub.execute_input": "2023-10-25T15:53:25.889168Z",
     "iopub.status.busy": "2023-10-25T15:53:25.884025Z",
     "iopub.status.idle": "2023-10-25T15:53:25.907151Z",
     "shell.execute_reply": "2023-10-25T15:53:25.906295Z",
     "shell.execute_reply.started": "2023-10-25T15:13:11.591807Z"
    },
    "papermill": {
     "duration": 0.063899,
     "end_time": "2023-10-25T15:53:25.907305",
     "exception": false,
     "start_time": "2023-10-25T15:53:25.843406",
     "status": "completed"
    },
    "tags": []
   },
   "outputs": [],
   "source": [
    "model.compile(optimizer='rmsprop', loss='categorical_crossentropy',metrics=METRICS)"
   ]
  },
  {
   "cell_type": "code",
   "execution_count": 18,
   "metadata": {
    "execution": {
     "iopub.execute_input": "2023-10-25T15:53:25.974892Z",
     "iopub.status.busy": "2023-10-25T15:53:25.972656Z",
     "iopub.status.idle": "2023-10-25T16:18:30.613518Z",
     "shell.execute_reply": "2023-10-25T16:18:30.614208Z",
     "shell.execute_reply.started": "2023-10-25T15:14:39.108291Z"
    },
    "papermill": {
     "duration": 1504.679005,
     "end_time": "2023-10-25T16:18:30.614435",
     "exception": false,
     "start_time": "2023-10-25T15:53:25.935430",
     "status": "completed"
    },
    "tags": []
   },
   "outputs": [
    {
     "name": "stdout",
     "output_type": "stream",
     "text": [
      "Epoch 1/3\n",
      "129/129 [==============================] - 496s 4s/step - loss: 33.5887 - accuracy: 0.7396 - precision: 0.4544 - recall: 0.2064 - auc: 0.7329 - f1_score: 0.2691 - val_loss: 1.0349 - val_accuracy: 0.7500 - val_precision: 0.0000e+00 - val_recall: 0.0000e+00 - val_auc: 0.7804 - val_f1_score: 0.0000e+00\n",
      "Epoch 2/3\n",
      "129/129 [==============================] - 502s 4s/step - loss: 1.1613 - accuracy: 0.7474 - precision: 0.4861 - recall: 0.1796 - auc: 0.7748 - f1_score: 0.2324 - val_loss: 1.0351 - val_accuracy: 0.7500 - val_precision: 0.0000e+00 - val_recall: 0.0000e+00 - val_auc: 0.7804 - val_f1_score: 0.0000e+00\n",
      "Epoch 3/3\n",
      "129/129 [==============================] - 485s 4s/step - loss: 1.0527 - accuracy: 0.7491 - precision: 0.4959 - recall: 0.2060 - auc: 0.7765 - f1_score: 0.2711 - val_loss: 1.0346 - val_accuracy: 0.7500 - val_precision: 0.0000e+00 - val_recall: 0.0000e+00 - val_auc: 0.7804 - val_f1_score: 0.0000e+00\n"
     ]
    }
   ],
   "source": [
    "history=model.fit(train_dataset,\n",
    "                        validation_data=valid_dataset,\n",
    "                        epochs = 3,\n",
    "                        verbose = 1,\n",
    "                         callbacks=lr_scheduler)"
   ]
  },
  {
   "cell_type": "code",
   "execution_count": 19,
   "metadata": {
    "execution": {
     "iopub.execute_input": "2023-10-25T16:18:31.008231Z",
     "iopub.status.busy": "2023-10-25T16:18:31.006980Z",
     "iopub.status.idle": "2023-10-25T16:18:31.948693Z",
     "shell.execute_reply": "2023-10-25T16:18:31.949343Z",
     "shell.execute_reply.started": "2023-10-25T15:41:52.358466Z"
    },
    "papermill": {
     "duration": 1.144973,
     "end_time": "2023-10-25T16:18:31.949531",
     "exception": false,
     "start_time": "2023-10-25T16:18:30.804558",
     "status": "completed"
    },
    "tags": []
   },
   "outputs": [
    {
     "data": {
      "image/png": "[encoded data removed]",
      "text/plain": [
       "<Figure size 1440x360 with 5 Axes>"
      ]
     },
     "metadata": {
      "needs_background": "light"
     },
     "output_type": "display_data"
    }
   ],
   "source": [
    "#%% PLOTTING RESULTS (Train vs Validation FOLDER 1)\n",
    "\n",
    "def Train_Val_Plot(acc,val_acc,loss,val_loss,auc,val_auc,precision,val_precision,f1,val_f1):\n",
    "    \n",
    "    fig, (ax1, ax2,ax3,ax4,ax5) = plt.subplots(1,5, figsize= (20,5))\n",
    "    fig.suptitle(\" MODEL'S METRICS VISUALIZATION \")\n",
    "\n",
    "    ax1.plot(range(1, len(acc) + 1), acc)\n",
    "    ax1.plot(range(1, len(val_acc) + 1), val_acc)\n",
    "    ax1.set_title('History of Accuracy')\n",
    "    ax1.set_xlabel('Epochs')\n",
    "    ax1.set_ylabel('Accuracy')\n",
    "    ax1.legend(['training', 'validation'])\n",
    "\n",
    "\n",
    "    ax2.plot(range(1, len(loss) + 1), loss)\n",
    "    ax2.plot(range(1, len(val_loss) + 1), val_loss)\n",
    "    ax2.set_title('History of Loss')\n",
    "    ax2.set_xlabel('Epochs')\n",
    "    ax2.set_ylabel('Loss')\n",
    "    ax2.legend(['training', 'validation'])\n",
    "    \n",
    "    ax3.plot(range(1, len(auc) + 1), auc)\n",
    "    ax3.plot(range(1, len(val_auc) + 1), val_auc)\n",
    "    ax3.set_title('History of AUC')\n",
    "    ax3.set_xlabel('Epochs')\n",
    "    ax3.set_ylabel('AUC')\n",
    "    ax3.legend(['training', 'validation'])\n",
    "    \n",
    "    ax4.plot(range(1, len(precision) + 1), precision)\n",
    "    ax4.plot(range(1, len(val_precision) + 1), val_precision)\n",
    "    ax4.set_title('History of Precision')\n",
    "    ax4.set_xlabel('Epochs')\n",
    "    ax4.set_ylabel('Precision')\n",
    "    ax4.legend(['training', 'validation'])\n",
    "    \n",
    "    ax5.plot(range(1, len(f1) + 1), f1)\n",
    "    ax5.plot(range(1, len(val_f1) + 1), val_f1)\n",
    "    ax5.set_title('History of F1-score')\n",
    "    ax5.set_xlabel('Epochs')\n",
    "    ax5.set_ylabel('F1 score')\n",
    "    ax5.legend(['training', 'validation'])\n",
    "\n",
    "\n",
    "    plt.show()\n",
    "    \n",
    "\n",
    "Train_Val_Plot(history.history['accuracy'],history.history['val_accuracy'],\n",
    "               history.history['loss'],history.history['val_loss'],\n",
    "               history.history['auc'],history.history['val_auc'],\n",
    "               history.history['precision'],history.history['val_precision'],\n",
    "               history.history['f1_score'],history.history['val_f1_score']\n",
    "              )"
   ]
  },
  {
   "cell_type": "code",
   "execution_count": 20,
   "metadata": {
    "execution": {
     "iopub.execute_input": "2023-10-25T16:18:32.337182Z",
     "iopub.status.busy": "2023-10-25T16:18:32.336064Z",
     "iopub.status.idle": "2023-10-25T16:20:27.468907Z",
     "shell.execute_reply": "2023-10-25T16:20:27.469827Z",
     "shell.execute_reply.started": "2023-10-25T15:41:58.451067Z"
    },
    "papermill": {
     "duration": 115.327213,
     "end_time": "2023-10-25T16:20:27.470070",
     "exception": false,
     "start_time": "2023-10-25T16:18:32.142857",
     "status": "completed"
    },
    "tags": []
   },
   "outputs": [],
   "source": [
    "scores = model.evaluate_generator(test_dataset)"
   ]
  },
  {
   "cell_type": "code",
   "execution_count": 21,
   "metadata": {
    "execution": {
     "iopub.execute_input": "2023-10-25T16:20:27.869290Z",
     "iopub.status.busy": "2023-10-25T16:20:27.868491Z",
     "iopub.status.idle": "2023-10-25T16:20:27.873247Z",
     "shell.execute_reply": "2023-10-25T16:20:27.872634Z",
     "shell.execute_reply.started": "2023-10-25T15:52:29.297542Z"
    },
    "papermill": {
     "duration": 0.204399,
     "end_time": "2023-10-25T16:20:27.873391",
     "exception": false,
     "start_time": "2023-10-25T16:20:27.668992",
     "status": "completed"
    },
    "tags": []
   },
   "outputs": [
    {
     "name": "stdout",
     "output_type": "stream",
     "text": [
      "Accuracy =  0.75\n",
      "Precision =  0.0\n",
      "Recall =  0.0\n",
      "AUC =  0.7805577516555786\n",
      "F1_score =  0.0\n"
     ]
    }
   ],
   "source": [
    "print(\"Accuracy = \", scores[1])\n",
    "print(\"Precision = \", scores[2])\n",
    "print(\"Recall = \", scores[3])\n",
    "print(\"AUC = \", scores[4])\n",
    "print(\"F1_score = \", scores[5])"
   ]
  }
 ],
 "metadata": {
  "kernelspec": {
   "display_name": "Python 3",
   "language": "python",
   "name": "python3"
  },
  "language_info": {
   "codemirror_mode": {
    "name": "ipython",
    "version": 3
   },
   "file_extension": ".py",
   "mimetype": "text/x-python",
   "name": "python",
   "nbconvert_exporter": "python",
   "pygments_lexer": "ipython3",
   "version": "3.7.6"
  },
  "papermill": {
   "duration": 1647.205663,
   "end_time": "2023-10-25T16:20:28.176960",
   "environment_variables": {},
   "exception": null,
   "input_path": "__notebook__.ipynb",
   "output_path": "__notebook__.ipynb",
   "parameters": {},
   "start_time": "2023-10-25T15:53:00.971297",
   "version": "2.1.0"
  }
 },
 "nbformat": 4,
 "nbformat_minor": 4
}
